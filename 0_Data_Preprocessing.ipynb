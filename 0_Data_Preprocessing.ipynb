{
 "cells": [
  {
   "attachments": {},
   "cell_type": "markdown",
   "metadata": {},
   "source": [
    "# 0. Packages Import "
   ]
  },
  {
   "cell_type": "code",
   "execution_count": 1,
   "metadata": {},
   "outputs": [],
   "source": [
    "import numpy as np\n",
    "import pandas as pd\n",
    "import spacy\n",
    "import yfinance as yf\n",
    "from datetime import timedelta\n",
    "import os"
   ]
  },
  {
   "attachments": {},
   "cell_type": "markdown",
   "metadata": {},
   "source": [
    "# 1. Data Import"
   ]
  },
  {
   "attachments": {},
   "cell_type": "markdown",
   "metadata": {},
   "source": [
    "## 1.1 News DataFrame"
   ]
  },
  {
   "cell_type": "code",
   "execution_count": 2,
   "metadata": {},
   "outputs": [],
   "source": [
    "# Establish useful paths\n",
    "\n",
    "input_path='../data/input/'\n",
    "\n",
    "intermediate_path='../data/intermediate/'"
   ]
  },
  {
   "cell_type": "code",
   "execution_count": 3,
   "metadata": {},
   "outputs": [
    {
     "data": {
      "text/plain": [
       "(221513, 9)"
      ]
     },
     "metadata": {},
     "output_type": "display_data"
    },
    {
     "data": {
      "text/html": [
       "<div>\n",
       "<style scoped>\n",
       "    .dataframe tbody tr th:only-of-type {\n",
       "        vertical-align: middle;\n",
       "    }\n",
       "\n",
       "    .dataframe tbody tr th {\n",
       "        vertical-align: top;\n",
       "    }\n",
       "\n",
       "    .dataframe thead th {\n",
       "        text-align: right;\n",
       "    }\n",
       "</style>\n",
       "<table border=\"1\" class=\"dataframe\">\n",
       "  <thead>\n",
       "    <tr style=\"text-align: right;\">\n",
       "      <th></th>\n",
       "      <th>id</th>\n",
       "      <th>ticker</th>\n",
       "      <th>title</th>\n",
       "      <th>category</th>\n",
       "      <th>content</th>\n",
       "      <th>release_date</th>\n",
       "      <th>provider</th>\n",
       "      <th>url</th>\n",
       "      <th>article_id</th>\n",
       "    </tr>\n",
       "  </thead>\n",
       "  <tbody>\n",
       "    <tr>\n",
       "      <th>0</th>\n",
       "      <td>221515</td>\n",
       "      <td>NIO</td>\n",
       "      <td>Why Shares of Chinese Electric Car Maker NIO A...</td>\n",
       "      <td>news</td>\n",
       "      <td>What s happening\\nShares of Chinese electric c...</td>\n",
       "      <td>2020-01-15</td>\n",
       "      <td>The Motley Fool</td>\n",
       "      <td>https://invst.ly/pigqi</td>\n",
       "      <td>2060327</td>\n",
       "    </tr>\n",
       "  </tbody>\n",
       "</table>\n",
       "</div>"
      ],
      "text/plain": [
       "       id ticker                                              title category  \\\n",
       "0  221515    NIO  Why Shares of Chinese Electric Car Maker NIO A...     news   \n",
       "\n",
       "                                             content release_date  \\\n",
       "0  What s happening\\nShares of Chinese electric c...   2020-01-15   \n",
       "\n",
       "          provider                     url  article_id  \n",
       "0  The Motley Fool  https://invst.ly/pigqi     2060327  "
      ]
     },
     "execution_count": 3,
     "metadata": {},
     "output_type": "execute_result"
    }
   ],
   "source": [
    "# Import News df\n",
    "\n",
    "df_filename='us_equities_news_dataset.csv'\n",
    "\n",
    "df=pd.read_csv(os.path.join(input_path,df_filename))\n",
    "\n",
    "# Shape Check\n",
    "\n",
    "display(df.shape)\n",
    "\n",
    "#Visual check\n",
    "\n",
    "df.head(1)"
   ]
  },
  {
   "cell_type": "code",
   "execution_count": 4,
   "metadata": {},
   "outputs": [
    {
     "data": {
      "text/html": [
       "<div>\n",
       "<style scoped>\n",
       "    .dataframe tbody tr th:only-of-type {\n",
       "        vertical-align: middle;\n",
       "    }\n",
       "\n",
       "    .dataframe tbody tr th {\n",
       "        vertical-align: top;\n",
       "    }\n",
       "\n",
       "    .dataframe thead th {\n",
       "        text-align: right;\n",
       "    }\n",
       "</style>\n",
       "<table border=\"1\" class=\"dataframe\">\n",
       "  <thead>\n",
       "    <tr style=\"text-align: right;\">\n",
       "      <th></th>\n",
       "      <th>ticker</th>\n",
       "      <th>title</th>\n",
       "      <th>category</th>\n",
       "      <th>content</th>\n",
       "      <th>release_date</th>\n",
       "      <th>provider</th>\n",
       "    </tr>\n",
       "  </thead>\n",
       "  <tbody>\n",
       "    <tr>\n",
       "      <th>0</th>\n",
       "      <td>0</td>\n",
       "      <td>0</td>\n",
       "      <td>0</td>\n",
       "      <td>8</td>\n",
       "      <td>0</td>\n",
       "      <td>0</td>\n",
       "    </tr>\n",
       "  </tbody>\n",
       "</table>\n",
       "</div>"
      ],
      "text/plain": [
       "   ticker  title  category  content  release_date  provider\n",
       "0       0      0         0        8             0         0"
      ]
     },
     "execution_count": 4,
     "metadata": {},
     "output_type": "execute_result"
    }
   ],
   "source": [
    "# Base level cleaning\n",
    "\n",
    "# Drop useless columns\n",
    "\n",
    "df.drop(columns=['id','url','article_id'],inplace=True)\n",
    "\n",
    "# Change date datatype\n",
    "\n",
    "df['release_date']=pd.to_datetime(df['release_date'], format='%Y-%m-%d')\n",
    "\n",
    "# Sort DF by date \n",
    "\n",
    "df.sort_values(by='release_date',ascending=True,inplace=True)\n",
    "\n",
    "# Check NaN\n",
    "\n",
    "df.isna().sum().to_frame().T"
   ]
  },
  {
   "attachments": {},
   "cell_type": "markdown",
   "metadata": {},
   "source": [
    "## 1.2 Index Data"
   ]
  },
  {
   "cell_type": "code",
   "execution_count": 5,
   "metadata": {},
   "outputs": [
    {
     "name": "stdout",
     "output_type": "stream",
     "text": [
      "[*********************100%***********************]  1 of 1 completed\n"
     ]
    },
    {
     "data": {
      "text/html": [
       "<div>\n",
       "<style scoped>\n",
       "    .dataframe tbody tr th:only-of-type {\n",
       "        vertical-align: middle;\n",
       "    }\n",
       "\n",
       "    .dataframe tbody tr th {\n",
       "        vertical-align: top;\n",
       "    }\n",
       "\n",
       "    .dataframe thead th {\n",
       "        text-align: right;\n",
       "    }\n",
       "</style>\n",
       "<table border=\"1\" class=\"dataframe\">\n",
       "  <thead>\n",
       "    <tr style=\"text-align: right;\">\n",
       "      <th></th>\n",
       "      <th>Date</th>\n",
       "      <th>Close</th>\n",
       "      <th>Return</th>\n",
       "    </tr>\n",
       "  </thead>\n",
       "  <tbody>\n",
       "    <tr>\n",
       "      <th>0</th>\n",
       "      <td>2008-10-01</td>\n",
       "      <td>1161.060059</td>\n",
       "      <td>NaN</td>\n",
       "    </tr>\n",
       "    <tr>\n",
       "      <th>1</th>\n",
       "      <td>2008-10-02</td>\n",
       "      <td>1114.280029</td>\n",
       "      <td>-0.040291</td>\n",
       "    </tr>\n",
       "  </tbody>\n",
       "</table>\n",
       "</div>"
      ],
      "text/plain": [
       "        Date        Close    Return\n",
       "0 2008-10-01  1161.060059       NaN\n",
       "1 2008-10-02  1114.280029 -0.040291"
      ]
     },
     "execution_count": 5,
     "metadata": {},
     "output_type": "execute_result"
    }
   ],
   "source": [
    "# Download SP500 values from Yahoo!\n",
    "\n",
    "gspc=yf.download(['^GSPC'],df['release_date'].iloc[1]-timedelta(2),df['release_date'].iloc[-1]+timedelta(1)).reset_index()[['Date','Close']]\n",
    "\n",
    "# Compute Returns\n",
    "\n",
    "gspc['Return']=gspc['Close'].pct_change()\n",
    "\n",
    "# Visual Check \n",
    "\n",
    "gspc.head(2)"
   ]
  },
  {
   "attachments": {},
   "cell_type": "markdown",
   "metadata": {},
   "source": [
    "# 2. Preprocessing Merge"
   ]
  },
  {
   "cell_type": "code",
   "execution_count": 6,
   "metadata": {},
   "outputs": [
    {
     "name": "stdout",
     "output_type": "stream",
     "text": [
      "The shape of the df with news grouped daily is (3641, 2) \n",
      "\n"
     ]
    },
    {
     "data": {
      "text/html": [
       "<div>\n",
       "<style scoped>\n",
       "    .dataframe tbody tr th:only-of-type {\n",
       "        vertical-align: middle;\n",
       "    }\n",
       "\n",
       "    .dataframe tbody tr th {\n",
       "        vertical-align: top;\n",
       "    }\n",
       "\n",
       "    .dataframe thead th {\n",
       "        text-align: right;\n",
       "    }\n",
       "</style>\n",
       "<table border=\"1\" class=\"dataframe\">\n",
       "  <thead>\n",
       "    <tr style=\"text-align: right;\">\n",
       "      <th></th>\n",
       "      <th>release_date</th>\n",
       "      <th>title</th>\n",
       "    </tr>\n",
       "  </thead>\n",
       "  <tbody>\n",
       "    <tr>\n",
       "      <th>0</th>\n",
       "      <td>2008-10-02</td>\n",
       "      <td>Nikkei down 1 4 pct on economy fears  autos drop</td>\n",
       "    </tr>\n",
       "    <tr>\n",
       "      <th>1</th>\n",
       "      <td>2008-10-03</td>\n",
       "      <td>FOREX Dollar poised for biggest weekly gain in...</td>\n",
       "    </tr>\n",
       "  </tbody>\n",
       "</table>\n",
       "</div>"
      ],
      "text/plain": [
       "  release_date                                              title\n",
       "0   2008-10-02   Nikkei down 1 4 pct on economy fears  autos drop\n",
       "1   2008-10-03  FOREX Dollar poised for biggest weekly gain in..."
      ]
     },
     "execution_count": 6,
     "metadata": {},
     "output_type": "execute_result"
    }
   ],
   "source": [
    "# Group news by day\n",
    "\n",
    "daily_df=df.groupby(by='release_date')['title'].apply(lambda x : ' '.join(x)).reset_index()\n",
    "\n",
    "# Check shape\n",
    "\n",
    "print(f'The shape of the df with news grouped daily is {daily_df.shape} \\n')\n",
    "\n",
    "# Visual check\n",
    "\n",
    "daily_df.head(2)"
   ]
  },
  {
   "cell_type": "code",
   "execution_count": 7,
   "metadata": {},
   "outputs": [
    {
     "name": "stdout",
     "output_type": "stream",
     "text": [
      "The shape of the df considering trading days only is (3641, 2) \n",
      "\n"
     ]
    },
    {
     "data": {
      "text/html": [
       "<div>\n",
       "<style scoped>\n",
       "    .dataframe tbody tr th:only-of-type {\n",
       "        vertical-align: middle;\n",
       "    }\n",
       "\n",
       "    .dataframe tbody tr th {\n",
       "        vertical-align: top;\n",
       "    }\n",
       "\n",
       "    .dataframe thead th {\n",
       "        text-align: right;\n",
       "    }\n",
       "</style>\n",
       "<table border=\"1\" class=\"dataframe\">\n",
       "  <thead>\n",
       "    <tr style=\"text-align: right;\">\n",
       "      <th></th>\n",
       "      <th>release_date</th>\n",
       "      <th>title</th>\n",
       "      <th>Date</th>\n",
       "      <th>Close</th>\n",
       "      <th>Return</th>\n",
       "    </tr>\n",
       "  </thead>\n",
       "  <tbody>\n",
       "    <tr>\n",
       "      <th>0</th>\n",
       "      <td>2008-10-02</td>\n",
       "      <td>Nikkei down 1 4 pct on economy fears  autos drop</td>\n",
       "      <td>2008-10-02</td>\n",
       "      <td>1114.280029</td>\n",
       "      <td>-0.040291</td>\n",
       "    </tr>\n",
       "    <tr>\n",
       "      <th>1</th>\n",
       "      <td>2008-10-03</td>\n",
       "      <td>FOREX Dollar poised for biggest weekly gain in...</td>\n",
       "      <td>2008-10-03</td>\n",
       "      <td>1099.229980</td>\n",
       "      <td>-0.013507</td>\n",
       "    </tr>\n",
       "  </tbody>\n",
       "</table>\n",
       "</div>"
      ],
      "text/plain": [
       "  release_date                                              title       Date  \\\n",
       "0   2008-10-02   Nikkei down 1 4 pct on economy fears  autos drop 2008-10-02   \n",
       "1   2008-10-03  FOREX Dollar poised for biggest weekly gain in... 2008-10-03   \n",
       "\n",
       "         Close    Return  \n",
       "0  1114.280029 -0.040291  \n",
       "1  1099.229980 -0.013507  "
      ]
     },
     "execution_count": 7,
     "metadata": {},
     "output_type": "execute_result"
    }
   ],
   "source": [
    "# Merge News (grouped daily) and SP500 returns \n",
    "\n",
    "df_complete=daily_df.merge(gspc,how='inner',left_on='release_date',right_on='Date')\n",
    "\n",
    "# Check shape\n",
    "\n",
    "print(f'The shape of the df considering trading days only is {daily_df.shape} \\n')\n",
    "\n",
    "# Visual Check \n",
    "\n",
    "df_complete.head(2)"
   ]
  },
  {
   "attachments": {},
   "cell_type": "markdown",
   "metadata": {},
   "source": [
    "# 3. Labelling"
   ]
  },
  {
   "cell_type": "code",
   "execution_count": 8,
   "metadata": {},
   "outputs": [
    {
     "data": {
      "text/plain": [
       "count    716.000000\n",
       "mean       0.000008\n",
       "std        0.001122\n",
       "min       -0.002000\n",
       "25%       -0.000960\n",
       "50%        0.000011\n",
       "75%        0.000909\n",
       "max        0.001986\n",
       "Name: Return, dtype: float64"
      ]
     },
     "execution_count": 8,
     "metadata": {},
     "output_type": "execute_result"
    }
   ],
   "source": [
    "# Binary Labelling (Positive/Negative)\n",
    "\n",
    "df_complete['binary_label']=df_complete['Return'].map(lambda x: 1 if x>=0 else 0)\n",
    "\n",
    "# Ternary Labelling (Positive/Neutral/Negative)\n",
    "\n",
    "# Neutral interval ( - 0.2% , + 0.2%)\n",
    "\n",
    "df_complete['ternary_label']=df_complete['Return'].map(lambda x: 2 if x >= 0.002 else 1 if x > -0.002 else 0)\n",
    "\n",
    "# Quick check\n",
    "\n",
    "df_complete[df_complete['ternary_label']== 1]['Return'].describe()"
   ]
  },
  {
   "attachments": {},
   "cell_type": "markdown",
   "metadata": {},
   "source": [
    "# 4. Text Cleaning"
   ]
  },
  {
   "cell_type": "code",
   "execution_count": 9,
   "metadata": {},
   "outputs": [],
   "source": [
    "# Load the spacy \"vocabulary\"\n",
    "\n",
    "nlp = spacy.load('en_core_web_sm')\n",
    "\n",
    "# Remove words with financial meaning from stopwords\n",
    "\n",
    "for word in ['above','below','up','down']:\n",
    "  spacy.lang.en.stop_words.STOP_WORDS.remove(word)\n",
    "\n",
    "# Define the function to clean text\n",
    "\n",
    "def language_processing(news):\n",
    "  \"\"\"Lemmatize and removes stop words, numbers and entities \n",
    "\n",
    "     Args:\n",
    "     news (string) : text documents\n",
    "\n",
    "     Returns:\n",
    "     result (string) : clean text  \n",
    "  \"\"\" \n",
    "  text_doc=nlp(news) \n",
    "  entities_to_remove=[e.text for e in text_doc.ents]\n",
    "  words_list=[word.lemma_.lower() for word in text_doc if (not word.is_stop) and (word.is_alpha) and (word.text not in entities_to_remove)]\n",
    "  result=' '.join(words_list)\n",
    "  return result"
   ]
  },
  {
   "cell_type": "code",
   "execution_count": 10,
   "metadata": {},
   "outputs": [
    {
     "data": {
      "text/html": [
       "<div>\n",
       "<style scoped>\n",
       "    .dataframe tbody tr th:only-of-type {\n",
       "        vertical-align: middle;\n",
       "    }\n",
       "\n",
       "    .dataframe tbody tr th {\n",
       "        vertical-align: top;\n",
       "    }\n",
       "\n",
       "    .dataframe thead th {\n",
       "        text-align: right;\n",
       "    }\n",
       "</style>\n",
       "<table border=\"1\" class=\"dataframe\">\n",
       "  <thead>\n",
       "    <tr style=\"text-align: right;\">\n",
       "      <th></th>\n",
       "      <th>release_date</th>\n",
       "      <th>title</th>\n",
       "      <th>Date</th>\n",
       "      <th>Close</th>\n",
       "      <th>Return</th>\n",
       "      <th>binary_label</th>\n",
       "      <th>ternary_label</th>\n",
       "      <th>clean_text</th>\n",
       "    </tr>\n",
       "  </thead>\n",
       "  <tbody>\n",
       "    <tr>\n",
       "      <th>0</th>\n",
       "      <td>2008-10-02</td>\n",
       "      <td>Nikkei down 1 4 pct on economy fears  autos drop</td>\n",
       "      <td>2008-10-02</td>\n",
       "      <td>1114.280029</td>\n",
       "      <td>-0.040291</td>\n",
       "      <td>0</td>\n",
       "      <td>0</td>\n",
       "      <td>nikkei down pct economy fear auto drop</td>\n",
       "    </tr>\n",
       "  </tbody>\n",
       "</table>\n",
       "</div>"
      ],
      "text/plain": [
       "  release_date                                             title       Date  \\\n",
       "0   2008-10-02  Nikkei down 1 4 pct on economy fears  autos drop 2008-10-02   \n",
       "\n",
       "         Close    Return  binary_label  ternary_label  \\\n",
       "0  1114.280029 -0.040291             0              0   \n",
       "\n",
       "                               clean_text  \n",
       "0  nikkei down pct economy fear auto drop  "
      ]
     },
     "execution_count": 10,
     "metadata": {},
     "output_type": "execute_result"
    }
   ],
   "source": [
    "# Apply the function\n",
    "\n",
    "df_complete['clean_text']=df_complete['title'].map(language_processing)\n",
    "\n",
    "# Visual check\n",
    "\n",
    "df_complete.head(1)"
   ]
  },
  {
   "attachments": {},
   "cell_type": "markdown",
   "metadata": {},
   "source": [
    "# 5. Export"
   ]
  },
  {
   "cell_type": "code",
   "execution_count": 11,
   "metadata": {},
   "outputs": [],
   "source": [
    "df_complete_filename='df_clean_text.parquet'\n",
    "\n",
    "df_complete.to_parquet(os.path.join(intermediate_path,df_complete_filename))"
   ]
  }
 ],
 "metadata": {
  "kernelspec": {
   "display_name": "Python 3",
   "language": "python",
   "name": "python3"
  },
  "language_info": {
   "codemirror_mode": {
    "name": "ipython",
    "version": 3
   },
   "file_extension": ".py",
   "mimetype": "text/x-python",
   "name": "python",
   "nbconvert_exporter": "python",
   "pygments_lexer": "ipython3",
   "version": "3.11.4"
  },
  "orig_nbformat": 4
 },
 "nbformat": 4,
 "nbformat_minor": 2
}
