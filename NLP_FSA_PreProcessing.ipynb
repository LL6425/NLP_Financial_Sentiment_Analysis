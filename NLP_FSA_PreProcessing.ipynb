{
  "nbformat": 4,
  "nbformat_minor": 0,
  "metadata": {
    "colab": {
      "provenance": []
    },
    "kernelspec": {
      "name": "python3",
      "display_name": "Python 3"
    },
    "language_info": {
      "name": "python"
    }
  },
  "cells": [
    {
      "cell_type": "markdown",
      "source": [
        "#0. Installing and Importing the packages"
      ],
      "metadata": {
        "id": "2o_hV8qTlv5k"
      }
    },
    {
      "cell_type": "code",
      "source": [
        "import pandas as pd\n",
        "import numpy as np\n",
        "import spacy\n",
        "from datetime import datetime, timedelta\n",
        "from nltk.stem.snowball import SnowballStemmer\n",
        "import yfinance as yf \n",
        "from nltk.corpus import stopwords\n",
        "from nltk.tokenize import word_tokenize\n",
        "import re\n",
        "import nltk"
      ],
      "metadata": {
        "id": "Z45YSgESl1IJ"
      },
      "execution_count": null,
      "outputs": []
    },
    {
      "cell_type": "markdown",
      "source": [
        "#1. Importing data"
      ],
      "metadata": {
        "id": "QHaju8ZRmENC"
      }
    },
    {
      "cell_type": "code",
      "source": [
        "text_df=pd.read_csv('/content/drive/MyDrive/NLP_Financial_Sentiment_Analysis_Final/us_equities_news_dataset.csv')\n",
        "text_df.head(3)"
      ],
      "metadata": {
        "id": "GKF5_FbRmGNA",
        "colab": {
          "base_uri": "https://localhost:8080/",
          "height": 239
        },
        "outputId": "f5644d74-9df0-4515-9808-d464022bb6ed"
      },
      "execution_count": 2,
      "outputs": [
        {
          "output_type": "execute_result",
          "data": {
            "text/plain": [
              "       id ticker                                              title category  \\\n",
              "0  221515    NIO  Why Shares of Chinese Electric Car Maker NIO A...     news   \n",
              "1  221516    NIO  NIO only consumer gainer  Workhorse Group amon...     news   \n",
              "2  221517    NIO  NIO leads consumer gainers  Beyond Meat and Ma...     news   \n",
              "\n",
              "                                             content release_date  \\\n",
              "0  What s happening\\nShares of Chinese electric c...   2020-01-15   \n",
              "1  Gainers  NIO  NYSE NIO   7  \\nLosers  MGP Ingr...   2020-01-18   \n",
              "2  Gainers  NIO  NYSE NIO   14   Village Farms In...   2020-01-15   \n",
              "\n",
              "          provider                     url  article_id  \n",
              "0  The Motley Fool  https://invst.ly/pigqi     2060327  \n",
              "1    Seeking Alpha  https://invst.ly/pje9c     2062196  \n",
              "2    Seeking Alpha  https://invst.ly/pifmv     2060249  "
            ],
            "text/html": [
              "\n",
              "  <div id=\"df-f863992b-538d-43cf-85e1-48797af720c4\">\n",
              "    <div class=\"colab-df-container\">\n",
              "      <div>\n",
              "<style scoped>\n",
              "    .dataframe tbody tr th:only-of-type {\n",
              "        vertical-align: middle;\n",
              "    }\n",
              "\n",
              "    .dataframe tbody tr th {\n",
              "        vertical-align: top;\n",
              "    }\n",
              "\n",
              "    .dataframe thead th {\n",
              "        text-align: right;\n",
              "    }\n",
              "</style>\n",
              "<table border=\"1\" class=\"dataframe\">\n",
              "  <thead>\n",
              "    <tr style=\"text-align: right;\">\n",
              "      <th></th>\n",
              "      <th>id</th>\n",
              "      <th>ticker</th>\n",
              "      <th>title</th>\n",
              "      <th>category</th>\n",
              "      <th>content</th>\n",
              "      <th>release_date</th>\n",
              "      <th>provider</th>\n",
              "      <th>url</th>\n",
              "      <th>article_id</th>\n",
              "    </tr>\n",
              "  </thead>\n",
              "  <tbody>\n",
              "    <tr>\n",
              "      <th>0</th>\n",
              "      <td>221515</td>\n",
              "      <td>NIO</td>\n",
              "      <td>Why Shares of Chinese Electric Car Maker NIO A...</td>\n",
              "      <td>news</td>\n",
              "      <td>What s happening\\nShares of Chinese electric c...</td>\n",
              "      <td>2020-01-15</td>\n",
              "      <td>The Motley Fool</td>\n",
              "      <td>https://invst.ly/pigqi</td>\n",
              "      <td>2060327</td>\n",
              "    </tr>\n",
              "    <tr>\n",
              "      <th>1</th>\n",
              "      <td>221516</td>\n",
              "      <td>NIO</td>\n",
              "      <td>NIO only consumer gainer  Workhorse Group amon...</td>\n",
              "      <td>news</td>\n",
              "      <td>Gainers  NIO  NYSE NIO   7  \\nLosers  MGP Ingr...</td>\n",
              "      <td>2020-01-18</td>\n",
              "      <td>Seeking Alpha</td>\n",
              "      <td>https://invst.ly/pje9c</td>\n",
              "      <td>2062196</td>\n",
              "    </tr>\n",
              "    <tr>\n",
              "      <th>2</th>\n",
              "      <td>221517</td>\n",
              "      <td>NIO</td>\n",
              "      <td>NIO leads consumer gainers  Beyond Meat and Ma...</td>\n",
              "      <td>news</td>\n",
              "      <td>Gainers  NIO  NYSE NIO   14   Village Farms In...</td>\n",
              "      <td>2020-01-15</td>\n",
              "      <td>Seeking Alpha</td>\n",
              "      <td>https://invst.ly/pifmv</td>\n",
              "      <td>2060249</td>\n",
              "    </tr>\n",
              "  </tbody>\n",
              "</table>\n",
              "</div>\n",
              "      <button class=\"colab-df-convert\" onclick=\"convertToInteractive('df-f863992b-538d-43cf-85e1-48797af720c4')\"\n",
              "              title=\"Convert this dataframe to an interactive table.\"\n",
              "              style=\"display:none;\">\n",
              "        \n",
              "  <svg xmlns=\"http://www.w3.org/2000/svg\" height=\"24px\"viewBox=\"0 0 24 24\"\n",
              "       width=\"24px\">\n",
              "    <path d=\"M0 0h24v24H0V0z\" fill=\"none\"/>\n",
              "    <path d=\"M18.56 5.44l.94 2.06.94-2.06 2.06-.94-2.06-.94-.94-2.06-.94 2.06-2.06.94zm-11 1L8.5 8.5l.94-2.06 2.06-.94-2.06-.94L8.5 2.5l-.94 2.06-2.06.94zm10 10l.94 2.06.94-2.06 2.06-.94-2.06-.94-.94-2.06-.94 2.06-2.06.94z\"/><path d=\"M17.41 7.96l-1.37-1.37c-.4-.4-.92-.59-1.43-.59-.52 0-1.04.2-1.43.59L10.3 9.45l-7.72 7.72c-.78.78-.78 2.05 0 2.83L4 21.41c.39.39.9.59 1.41.59.51 0 1.02-.2 1.41-.59l7.78-7.78 2.81-2.81c.8-.78.8-2.07 0-2.86zM5.41 20L4 18.59l7.72-7.72 1.47 1.35L5.41 20z\"/>\n",
              "  </svg>\n",
              "      </button>\n",
              "      \n",
              "  <style>\n",
              "    .colab-df-container {\n",
              "      display:flex;\n",
              "      flex-wrap:wrap;\n",
              "      gap: 12px;\n",
              "    }\n",
              "\n",
              "    .colab-df-convert {\n",
              "      background-color: #E8F0FE;\n",
              "      border: none;\n",
              "      border-radius: 50%;\n",
              "      cursor: pointer;\n",
              "      display: none;\n",
              "      fill: #1967D2;\n",
              "      height: 32px;\n",
              "      padding: 0 0 0 0;\n",
              "      width: 32px;\n",
              "    }\n",
              "\n",
              "    .colab-df-convert:hover {\n",
              "      background-color: #E2EBFA;\n",
              "      box-shadow: 0px 1px 2px rgba(60, 64, 67, 0.3), 0px 1px 3px 1px rgba(60, 64, 67, 0.15);\n",
              "      fill: #174EA6;\n",
              "    }\n",
              "\n",
              "    [theme=dark] .colab-df-convert {\n",
              "      background-color: #3B4455;\n",
              "      fill: #D2E3FC;\n",
              "    }\n",
              "\n",
              "    [theme=dark] .colab-df-convert:hover {\n",
              "      background-color: #434B5C;\n",
              "      box-shadow: 0px 1px 3px 1px rgba(0, 0, 0, 0.15);\n",
              "      filter: drop-shadow(0px 1px 2px rgba(0, 0, 0, 0.3));\n",
              "      fill: #FFFFFF;\n",
              "    }\n",
              "  </style>\n",
              "\n",
              "      <script>\n",
              "        const buttonEl =\n",
              "          document.querySelector('#df-f863992b-538d-43cf-85e1-48797af720c4 button.colab-df-convert');\n",
              "        buttonEl.style.display =\n",
              "          google.colab.kernel.accessAllowed ? 'block' : 'none';\n",
              "\n",
              "        async function convertToInteractive(key) {\n",
              "          const element = document.querySelector('#df-f863992b-538d-43cf-85e1-48797af720c4');\n",
              "          const dataTable =\n",
              "            await google.colab.kernel.invokeFunction('convertToInteractive',\n",
              "                                                     [key], {});\n",
              "          if (!dataTable) return;\n",
              "\n",
              "          const docLinkHtml = 'Like what you see? Visit the ' +\n",
              "            '<a target=\"_blank\" href=https://colab.research.google.com/notebooks/data_table.ipynb>data table notebook</a>'\n",
              "            + ' to learn more about interactive tables.';\n",
              "          element.innerHTML = '';\n",
              "          dataTable['output_type'] = 'display_data';\n",
              "          await google.colab.output.renderOutput(dataTable, element);\n",
              "          const docLink = document.createElement('div');\n",
              "          docLink.innerHTML = docLinkHtml;\n",
              "          element.appendChild(docLink);\n",
              "        }\n",
              "      </script>\n",
              "    </div>\n",
              "  </div>\n",
              "  "
            ]
          },
          "metadata": {},
          "execution_count": 2
        }
      ]
    },
    {
      "cell_type": "code",
      "source": [
        "text_df.info()"
      ],
      "metadata": {
        "colab": {
          "base_uri": "https://localhost:8080/"
        },
        "id": "c3BXwNoUrKIg",
        "outputId": "cf984627-eb54-443a-cd9d-85c7c48fd748"
      },
      "execution_count": 4,
      "outputs": [
        {
          "output_type": "stream",
          "name": "stdout",
          "text": [
            "<class 'pandas.core.frame.DataFrame'>\n",
            "RangeIndex: 221513 entries, 0 to 221512\n",
            "Data columns (total 9 columns):\n",
            " #   Column        Non-Null Count   Dtype \n",
            "---  ------        --------------   ----- \n",
            " 0   id            221513 non-null  int64 \n",
            " 1   ticker        221513 non-null  object\n",
            " 2   title         221513 non-null  object\n",
            " 3   category      221513 non-null  object\n",
            " 4   content       221505 non-null  object\n",
            " 5   release_date  221513 non-null  object\n",
            " 6   provider      221513 non-null  object\n",
            " 7   url           221513 non-null  object\n",
            " 8   article_id    221513 non-null  int64 \n",
            "dtypes: int64(2), object(7)\n",
            "memory usage: 15.2+ MB\n"
          ]
        }
      ]
    },
    {
      "cell_type": "markdown",
      "source": [
        "#2. Data Pre-Processing"
      ],
      "metadata": {
        "id": "iwY-bJpYmUzV"
      }
    },
    {
      "cell_type": "markdown",
      "source": [
        "##2.0 Data Types"
      ],
      "metadata": {
        "id": "seiYQkWwuitM"
      }
    },
    {
      "cell_type": "code",
      "source": [
        "#Get data types\n",
        "text_df.dtypes"
      ],
      "metadata": {
        "id": "gw7AbP2lmXXo",
        "colab": {
          "base_uri": "https://localhost:8080/"
        },
        "outputId": "5d84e9e7-5d29-40b8-a57b-e11dadd825c9"
      },
      "execution_count": 5,
      "outputs": [
        {
          "output_type": "execute_result",
          "data": {
            "text/plain": [
              "id               int64\n",
              "ticker          object\n",
              "title           object\n",
              "category        object\n",
              "content         object\n",
              "release_date    object\n",
              "provider        object\n",
              "url             object\n",
              "article_id       int64\n",
              "dtype: object"
            ]
          },
          "metadata": {},
          "execution_count": 5
        }
      ]
    },
    {
      "cell_type": "code",
      "source": [
        "#Change some data types\n",
        "text_df['release_date']=pd.to_datetime(text_df['release_date'],format='%Y-%m-%d')\n",
        "text_df['title']=text_df['title'].astype('string')\n",
        "text_df['content']=text_df['content'].astype('string')\n",
        "text_df['category']=text_df['category'].astype('string')\n",
        "text_df['ticker']=text_df['ticker'].astype('string')\n",
        "text_df['provider']=text_df['provider'].astype('string')\n",
        "\n",
        "\n",
        "#Check\n",
        "text_df.dtypes"
      ],
      "metadata": {
        "id": "VDiyNXG3meno",
        "colab": {
          "base_uri": "https://localhost:8080/"
        },
        "outputId": "81e43dc9-a51e-4aff-df8b-36a5f150556b"
      },
      "execution_count": 6,
      "outputs": [
        {
          "output_type": "execute_result",
          "data": {
            "text/plain": [
              "id                       int64\n",
              "ticker                  string\n",
              "title                   string\n",
              "category                string\n",
              "content                 string\n",
              "release_date    datetime64[ns]\n",
              "provider                string\n",
              "url                     object\n",
              "article_id               int64\n",
              "dtype: object"
            ]
          },
          "metadata": {},
          "execution_count": 6
        }
      ]
    },
    {
      "cell_type": "code",
      "source": [
        "#Sort values by date (from oldest to newest)\n",
        "text_df=text_df.sort_values(by='release_date')"
      ],
      "metadata": {
        "id": "t_l3lm6BnTQD"
      },
      "execution_count": 7,
      "outputs": []
    },
    {
      "cell_type": "code",
      "source": [
        "#Check first and last date\n",
        "first_df_date=text_df.iloc[0,5].date()\n",
        "last_df_date=text_df.iloc[-1,5].date()\n",
        "print(f'First day in the dataset:{first_df_date}')\n",
        "print(f'First day in the dataset:{last_df_date}')"
      ],
      "metadata": {
        "id": "19HYBGAtne3y",
        "colab": {
          "base_uri": "https://localhost:8080/"
        },
        "outputId": "cb32d616-f3c1-482d-8105-847d56666813"
      },
      "execution_count": 8,
      "outputs": [
        {
          "output_type": "stream",
          "name": "stdout",
          "text": [
            "First day in the dataset:2008-10-02\n",
            "First day in the dataset:2020-02-13\n"
          ]
        }
      ]
    },
    {
      "cell_type": "markdown",
      "source": [
        "##2.1 Text Cleaning\n",
        "\n",
        "Articles and headlines\n",
        "\n",
        "Since lemmatization and entities recognition procedures are particularly time-consuming we apply them only on headlines, while articles words are \"simply\" stemmed."
      ],
      "metadata": {
        "id": "U37agJqFnmF9"
      }
    },
    {
      "cell_type": "code",
      "source": [
        "#Cleaning articles text\n",
        "\n",
        "nltk.download('stopwords')\n",
        "nltk.download('punkt')\n",
        "stemmer = SnowballStemmer(language='english')\n",
        "stops = set(stopwords.words('english'))\n",
        "\n",
        "def language_processing_simple(col):\n",
        "  \"\"\"Removes stop words, numbers and then applies a stemmer\n",
        "\n",
        "     Args:\n",
        "     series (pd.Series or list): series formed by strings\n",
        "\n",
        "     Returns:\n",
        "     list \n",
        "  \"\"\" \n",
        "  new_col=[]\n",
        "  for n in col:\n",
        "    try:\n",
        "      tokens_list = word_tokenize(n)\n",
        "      words_only = [word for word in tokens_list if word.isalpha()]\n",
        "      stm = [stemmer.stem(w.lower()) for w in words_only if not w.lower() in stops]\n",
        "      new_col.append(' '.join(stm))\n",
        "    except:\n",
        "      new_col.append(np.nan)\n",
        "  return new_col"
      ],
      "metadata": {
        "id": "6a2ARs4Ony5B",
        "colab": {
          "base_uri": "https://localhost:8080/"
        },
        "outputId": "e0d33634-c871-4762-f2fc-94f1696494e2"
      },
      "execution_count": 9,
      "outputs": [
        {
          "output_type": "stream",
          "name": "stderr",
          "text": [
            "[nltk_data] Downloading package stopwords to /root/nltk_data...\n",
            "[nltk_data]   Unzipping corpora/stopwords.zip.\n",
            "[nltk_data] Downloading package punkt to /root/nltk_data...\n",
            "[nltk_data]   Unzipping tokenizers/punkt.zip.\n"
          ]
        }
      ]
    },
    {
      "cell_type": "code",
      "source": [
        "text_df['Processed_Articles']=language_processing_simple(text_df['content'])"
      ],
      "metadata": {
        "id": "72r0RICMn47O"
      },
      "execution_count": 10,
      "outputs": []
    },
    {
      "cell_type": "code",
      "source": [
        "#Processing headlines\n",
        "\n",
        "#First of all, we load the spacy \"vocabulary\"\n",
        "nlp = spacy.load('en_core_web_sm')\n",
        "\n",
        "def language_processing_lem(col):\n",
        "  \"\"\"Lemmatize and removes stop words, numbers and entities \n",
        "\n",
        "     Args:\n",
        "     series (pd.Series or list): series formed by strings\n",
        "\n",
        "     Returns:\n",
        "     list \n",
        "  \"\"\"    \n",
        "  stopwords = spacy.lang.en.stop_words.STOP_WORDS\n",
        "  new_col=[]\n",
        "  for n in col:\n",
        "    d=nlp(n)\n",
        "    l=[w.lemma_.lower() for w in d if (not w.is_stop) and (w.is_alpha) and (w.text not in [e.text for e in d.ents])]\n",
        "    new_col.append(' '.join(l))\n",
        "  return new_col"
      ],
      "metadata": {
        "id": "2IVXTU_an9ir"
      },
      "execution_count": 13,
      "outputs": []
    },
    {
      "cell_type": "code",
      "source": [
        "text_df['Processed_Titles']=language_processing_lem(text_df['title'])\n",
        "\n",
        "text_df.head(3)"
      ],
      "metadata": {
        "id": "a7tHvwTZoHZR",
        "colab": {
          "base_uri": "https://localhost:8080/",
          "height": 485
        },
        "outputId": "c21310a3-6edc-4741-ace5-d01de149e12e"
      },
      "execution_count": 14,
      "outputs": [
        {
          "output_type": "execute_result",
          "data": {
            "text/plain": [
              "            id ticker                                              title  \\\n",
              "6235    227750  KYOCY   Nikkei down 1 4 pct on economy fears  autos drop   \n",
              "105598  327113    TGT  FOREX Dollar poised for biggest weekly gain in...   \n",
              "214228  435744      C  GLOBAL MARKETS Stocks rally on Wells Wachovia ...   \n",
              "\n",
              "       category                                            content  \\\n",
              "6235       news   Nikkei down 1 4 pct  hits lowest point in ove...   \n",
              "105598     news    Money market squeeze  ECB shift fuel dollar ...   \n",
              "214228     news   U S  stocks rally  dollar gains on European w...   \n",
              "\n",
              "       release_date provider  \\\n",
              "6235     2008-10-02  Reuters   \n",
              "105598   2008-10-03  Reuters   \n",
              "214228   2008-10-03  Reuters   \n",
              "\n",
              "                                                      url  article_id  \\\n",
              "6235    https://www.investing.com/news/forex-news/nikk...         669   \n",
              "105598  https://www.investing.com/news/forex-news/fore...         671   \n",
              "214228  https://www.investing.com/news/forex-news/glob...         682   \n",
              "\n",
              "                                       Processed_Articles  \\\n",
              "6235    nikkei pct hit lowest point year fear global e...   \n",
              "105598  money market squeez ecb shift fuel dollar surg...   \n",
              "214228  u stock ralli dollar gain european weak well f...   \n",
              "\n",
              "                                         Processed_Titles  \n",
              "6235                    nikkei pct economy fear auto drop  \n",
              "105598                   forex dollar poise big gain year  \n",
              "214228  global markets stock rally wells wachovia deal...  "
            ],
            "text/html": [
              "\n",
              "  <div id=\"df-ddbf2f6c-ab9b-4741-98a7-299cc8b33e8a\">\n",
              "    <div class=\"colab-df-container\">\n",
              "      <div>\n",
              "<style scoped>\n",
              "    .dataframe tbody tr th:only-of-type {\n",
              "        vertical-align: middle;\n",
              "    }\n",
              "\n",
              "    .dataframe tbody tr th {\n",
              "        vertical-align: top;\n",
              "    }\n",
              "\n",
              "    .dataframe thead th {\n",
              "        text-align: right;\n",
              "    }\n",
              "</style>\n",
              "<table border=\"1\" class=\"dataframe\">\n",
              "  <thead>\n",
              "    <tr style=\"text-align: right;\">\n",
              "      <th></th>\n",
              "      <th>id</th>\n",
              "      <th>ticker</th>\n",
              "      <th>title</th>\n",
              "      <th>category</th>\n",
              "      <th>content</th>\n",
              "      <th>release_date</th>\n",
              "      <th>provider</th>\n",
              "      <th>url</th>\n",
              "      <th>article_id</th>\n",
              "      <th>Processed_Articles</th>\n",
              "      <th>Processed_Titles</th>\n",
              "    </tr>\n",
              "  </thead>\n",
              "  <tbody>\n",
              "    <tr>\n",
              "      <th>6235</th>\n",
              "      <td>227750</td>\n",
              "      <td>KYOCY</td>\n",
              "      <td>Nikkei down 1 4 pct on economy fears  autos drop</td>\n",
              "      <td>news</td>\n",
              "      <td>Nikkei down 1 4 pct  hits lowest point in ove...</td>\n",
              "      <td>2008-10-02</td>\n",
              "      <td>Reuters</td>\n",
              "      <td>https://www.investing.com/news/forex-news/nikk...</td>\n",
              "      <td>669</td>\n",
              "      <td>nikkei pct hit lowest point year fear global e...</td>\n",
              "      <td>nikkei pct economy fear auto drop</td>\n",
              "    </tr>\n",
              "    <tr>\n",
              "      <th>105598</th>\n",
              "      <td>327113</td>\n",
              "      <td>TGT</td>\n",
              "      <td>FOREX Dollar poised for biggest weekly gain in...</td>\n",
              "      <td>news</td>\n",
              "      <td>Money market squeeze  ECB shift fuel dollar ...</td>\n",
              "      <td>2008-10-03</td>\n",
              "      <td>Reuters</td>\n",
              "      <td>https://www.investing.com/news/forex-news/fore...</td>\n",
              "      <td>671</td>\n",
              "      <td>money market squeez ecb shift fuel dollar surg...</td>\n",
              "      <td>forex dollar poise big gain year</td>\n",
              "    </tr>\n",
              "    <tr>\n",
              "      <th>214228</th>\n",
              "      <td>435744</td>\n",
              "      <td>C</td>\n",
              "      <td>GLOBAL MARKETS Stocks rally on Wells Wachovia ...</td>\n",
              "      <td>news</td>\n",
              "      <td>U S  stocks rally  dollar gains on European w...</td>\n",
              "      <td>2008-10-03</td>\n",
              "      <td>Reuters</td>\n",
              "      <td>https://www.investing.com/news/forex-news/glob...</td>\n",
              "      <td>682</td>\n",
              "      <td>u stock ralli dollar gain european weak well f...</td>\n",
              "      <td>global markets stock rally wells wachovia deal...</td>\n",
              "    </tr>\n",
              "  </tbody>\n",
              "</table>\n",
              "</div>\n",
              "      <button class=\"colab-df-convert\" onclick=\"convertToInteractive('df-ddbf2f6c-ab9b-4741-98a7-299cc8b33e8a')\"\n",
              "              title=\"Convert this dataframe to an interactive table.\"\n",
              "              style=\"display:none;\">\n",
              "        \n",
              "  <svg xmlns=\"http://www.w3.org/2000/svg\" height=\"24px\"viewBox=\"0 0 24 24\"\n",
              "       width=\"24px\">\n",
              "    <path d=\"M0 0h24v24H0V0z\" fill=\"none\"/>\n",
              "    <path d=\"M18.56 5.44l.94 2.06.94-2.06 2.06-.94-2.06-.94-.94-2.06-.94 2.06-2.06.94zm-11 1L8.5 8.5l.94-2.06 2.06-.94-2.06-.94L8.5 2.5l-.94 2.06-2.06.94zm10 10l.94 2.06.94-2.06 2.06-.94-2.06-.94-.94-2.06-.94 2.06-2.06.94z\"/><path d=\"M17.41 7.96l-1.37-1.37c-.4-.4-.92-.59-1.43-.59-.52 0-1.04.2-1.43.59L10.3 9.45l-7.72 7.72c-.78.78-.78 2.05 0 2.83L4 21.41c.39.39.9.59 1.41.59.51 0 1.02-.2 1.41-.59l7.78-7.78 2.81-2.81c.8-.78.8-2.07 0-2.86zM5.41 20L4 18.59l7.72-7.72 1.47 1.35L5.41 20z\"/>\n",
              "  </svg>\n",
              "      </button>\n",
              "      \n",
              "  <style>\n",
              "    .colab-df-container {\n",
              "      display:flex;\n",
              "      flex-wrap:wrap;\n",
              "      gap: 12px;\n",
              "    }\n",
              "\n",
              "    .colab-df-convert {\n",
              "      background-color: #E8F0FE;\n",
              "      border: none;\n",
              "      border-radius: 50%;\n",
              "      cursor: pointer;\n",
              "      display: none;\n",
              "      fill: #1967D2;\n",
              "      height: 32px;\n",
              "      padding: 0 0 0 0;\n",
              "      width: 32px;\n",
              "    }\n",
              "\n",
              "    .colab-df-convert:hover {\n",
              "      background-color: #E2EBFA;\n",
              "      box-shadow: 0px 1px 2px rgba(60, 64, 67, 0.3), 0px 1px 3px 1px rgba(60, 64, 67, 0.15);\n",
              "      fill: #174EA6;\n",
              "    }\n",
              "\n",
              "    [theme=dark] .colab-df-convert {\n",
              "      background-color: #3B4455;\n",
              "      fill: #D2E3FC;\n",
              "    }\n",
              "\n",
              "    [theme=dark] .colab-df-convert:hover {\n",
              "      background-color: #434B5C;\n",
              "      box-shadow: 0px 1px 3px 1px rgba(0, 0, 0, 0.15);\n",
              "      filter: drop-shadow(0px 1px 2px rgba(0, 0, 0, 0.3));\n",
              "      fill: #FFFFFF;\n",
              "    }\n",
              "  </style>\n",
              "\n",
              "      <script>\n",
              "        const buttonEl =\n",
              "          document.querySelector('#df-ddbf2f6c-ab9b-4741-98a7-299cc8b33e8a button.colab-df-convert');\n",
              "        buttonEl.style.display =\n",
              "          google.colab.kernel.accessAllowed ? 'block' : 'none';\n",
              "\n",
              "        async function convertToInteractive(key) {\n",
              "          const element = document.querySelector('#df-ddbf2f6c-ab9b-4741-98a7-299cc8b33e8a');\n",
              "          const dataTable =\n",
              "            await google.colab.kernel.invokeFunction('convertToInteractive',\n",
              "                                                     [key], {});\n",
              "          if (!dataTable) return;\n",
              "\n",
              "          const docLinkHtml = 'Like what you see? Visit the ' +\n",
              "            '<a target=\"_blank\" href=https://colab.research.google.com/notebooks/data_table.ipynb>data table notebook</a>'\n",
              "            + ' to learn more about interactive tables.';\n",
              "          element.innerHTML = '';\n",
              "          dataTable['output_type'] = 'display_data';\n",
              "          await google.colab.output.renderOutput(dataTable, element);\n",
              "          const docLink = document.createElement('div');\n",
              "          docLink.innerHTML = docLinkHtml;\n",
              "          element.appendChild(docLink);\n",
              "        }\n",
              "      </script>\n",
              "    </div>\n",
              "  </div>\n",
              "  "
            ]
          },
          "metadata": {},
          "execution_count": 14
        }
      ]
    },
    {
      "cell_type": "markdown",
      "source": [
        "##2.2 Financial Returns\n",
        "\n",
        "We will label news through financial returns"
      ],
      "metadata": {
        "id": "ZOPsr1iPs_7V"
      }
    },
    {
      "cell_type": "code",
      "source": [
        "#Labelling news through returns requires first of all the prices\n",
        "all_prices = yf.download(list(text_df['ticker'].unique()), '2008-10-01','2020-02-14',progress=False)['Close']"
      ],
      "metadata": {
        "id": "01PQmRsBqW0v"
      },
      "execution_count": null,
      "outputs": []
    },
    {
      "cell_type": "code",
      "source": [
        "#Get the daily returns linked to every text\n",
        "\n",
        "def get_single_returns(texts_df,prices_df,tickers_col='ticker',date_col='release_date'):\n",
        "  \"\"\"Recognizing date and ticker from the first dataset, this function get the daily returns using the prices in the second dataset\n",
        "\n",
        "     Args:\n",
        "     (DataFrame): dataframe containing news, reference ticker in the 'ticker' column and date in the 'release_date' column\n",
        "     (DataFrame): dataframe with the prices(all Close prices for every ticker in the entire news timespan)\n",
        "\n",
        "     Returns:\n",
        "     list of returns\n",
        "  \"\"\"      \n",
        "  rets=[]\n",
        "  trading_days=[d for d in all_prices.index]\n",
        "  for index,row in texts_df.iterrows():\n",
        "    try:\n",
        "      ticker=row[tickers_col]\n",
        "      day=row[date_col]\n",
        "      p=prices_df.loc[day,ticker]\n",
        "      index = trading_days.index(day)\n",
        "      previous_day = trading_days[index-1]\n",
        "      previous_p=prices_df.loc[previous_day,ticker]\n",
        "      r=(p-previous_p)/previous_p\n",
        "      rets.append(r)\n",
        "    except:\n",
        "      rets.append(np.nan)\n",
        "  return rets"
      ],
      "metadata": {
        "id": "ltLLKKcLqaW-"
      },
      "execution_count": 16,
      "outputs": []
    },
    {
      "cell_type": "code",
      "source": [
        "text_df['Returns']=get_single_returns(text_df,all_prices)\n",
        "\n",
        "text_df.tail(3)"
      ],
      "metadata": {
        "colab": {
          "base_uri": "https://localhost:8080/",
          "height": 520
        },
        "id": "ZQBgbLjhsD_a",
        "outputId": "07d949a1-7195-40fe-a622-9e5f02a102d5"
      },
      "execution_count": 17,
      "outputs": [
        {
          "output_type": "execute_result",
          "data": {
            "text/plain": [
              "            id ticker                                              title  \\\n",
              "217764  439280    WFC  Comerica taps Wells Fargo exec to head wealth ...   \n",
              "217766  439282    WFC  Wells Fargo ends forced arbitration for sexual...   \n",
              "217275  438791   TEVA  7 Stock Charts To Watch  AVXL  COLL  FSLR  LUN...   \n",
              "\n",
              "       category                                            content  \\\n",
              "217764     news  Comerica  CMA  1 4   names Greg Carr as new he...   \n",
              "217766     news  By Imani Moise  Reuters     Wells Fargo   NYSE...   \n",
              "217275  opinion  1   Anavex Life Sciences  Corp   AVXL  \n",
              "Anavex...   \n",
              "\n",
              "       release_date       provider  \\\n",
              "217764   2020-02-13  Seeking Alpha   \n",
              "217766   2020-02-13        Reuters   \n",
              "217275   2020-02-13    Harry Boxer   \n",
              "\n",
              "                                                      url  article_id  \\\n",
              "217764                             https://invst.ly/pu9ob     2083018   \n",
              "217766  https://www.investing.com/news/stock-market-ne...     2083147   \n",
              "217275  https://www.investing.com/analysis/7-stock-cha...   200507108   \n",
              "\n",
              "                                       Processed_Articles  \\\n",
              "217764  comerica cma name greg carr new head wealth ma...   \n",
              "217766  imani mois reuter well fargo nyse wfc co wedne...   \n",
              "217275  anavex life scienc corp avxl anavex life scien...   \n",
              "\n",
              "                                         Processed_Titles   Returns  \n",
              "217764  comerica tap wells fargo exec head wealth mana...  0.006905  \n",
              "217766  wells fargo end force arbitration sexual haras...  0.006905  \n",
              "217275        stock charts watch avxl coll fslr prpl tndm -0.065428  "
            ],
            "text/html": [
              "\n",
              "  <div id=\"df-046b80a4-8e05-4f39-9e87-9b37933b962b\">\n",
              "    <div class=\"colab-df-container\">\n",
              "      <div>\n",
              "<style scoped>\n",
              "    .dataframe tbody tr th:only-of-type {\n",
              "        vertical-align: middle;\n",
              "    }\n",
              "\n",
              "    .dataframe tbody tr th {\n",
              "        vertical-align: top;\n",
              "    }\n",
              "\n",
              "    .dataframe thead th {\n",
              "        text-align: right;\n",
              "    }\n",
              "</style>\n",
              "<table border=\"1\" class=\"dataframe\">\n",
              "  <thead>\n",
              "    <tr style=\"text-align: right;\">\n",
              "      <th></th>\n",
              "      <th>id</th>\n",
              "      <th>ticker</th>\n",
              "      <th>title</th>\n",
              "      <th>category</th>\n",
              "      <th>content</th>\n",
              "      <th>release_date</th>\n",
              "      <th>provider</th>\n",
              "      <th>url</th>\n",
              "      <th>article_id</th>\n",
              "      <th>Processed_Articles</th>\n",
              "      <th>Processed_Titles</th>\n",
              "      <th>Returns</th>\n",
              "    </tr>\n",
              "  </thead>\n",
              "  <tbody>\n",
              "    <tr>\n",
              "      <th>217764</th>\n",
              "      <td>439280</td>\n",
              "      <td>WFC</td>\n",
              "      <td>Comerica taps Wells Fargo exec to head wealth ...</td>\n",
              "      <td>news</td>\n",
              "      <td>Comerica  CMA  1 4   names Greg Carr as new he...</td>\n",
              "      <td>2020-02-13</td>\n",
              "      <td>Seeking Alpha</td>\n",
              "      <td>https://invst.ly/pu9ob</td>\n",
              "      <td>2083018</td>\n",
              "      <td>comerica cma name greg carr new head wealth ma...</td>\n",
              "      <td>comerica tap wells fargo exec head wealth mana...</td>\n",
              "      <td>0.006905</td>\n",
              "    </tr>\n",
              "    <tr>\n",
              "      <th>217766</th>\n",
              "      <td>439282</td>\n",
              "      <td>WFC</td>\n",
              "      <td>Wells Fargo ends forced arbitration for sexual...</td>\n",
              "      <td>news</td>\n",
              "      <td>By Imani Moise  Reuters     Wells Fargo   NYSE...</td>\n",
              "      <td>2020-02-13</td>\n",
              "      <td>Reuters</td>\n",
              "      <td>https://www.investing.com/news/stock-market-ne...</td>\n",
              "      <td>2083147</td>\n",
              "      <td>imani mois reuter well fargo nyse wfc co wedne...</td>\n",
              "      <td>wells fargo end force arbitration sexual haras...</td>\n",
              "      <td>0.006905</td>\n",
              "    </tr>\n",
              "    <tr>\n",
              "      <th>217275</th>\n",
              "      <td>438791</td>\n",
              "      <td>TEVA</td>\n",
              "      <td>7 Stock Charts To Watch  AVXL  COLL  FSLR  LUN...</td>\n",
              "      <td>opinion</td>\n",
              "      <td>1   Anavex Life Sciences  Corp   AVXL  \n",
              "Anavex...</td>\n",
              "      <td>2020-02-13</td>\n",
              "      <td>Harry Boxer</td>\n",
              "      <td>https://www.investing.com/analysis/7-stock-cha...</td>\n",
              "      <td>200507108</td>\n",
              "      <td>anavex life scienc corp avxl anavex life scien...</td>\n",
              "      <td>stock charts watch avxl coll fslr prpl tndm</td>\n",
              "      <td>-0.065428</td>\n",
              "    </tr>\n",
              "  </tbody>\n",
              "</table>\n",
              "</div>\n",
              "      <button class=\"colab-df-convert\" onclick=\"convertToInteractive('df-046b80a4-8e05-4f39-9e87-9b37933b962b')\"\n",
              "              title=\"Convert this dataframe to an interactive table.\"\n",
              "              style=\"display:none;\">\n",
              "        \n",
              "  <svg xmlns=\"http://www.w3.org/2000/svg\" height=\"24px\"viewBox=\"0 0 24 24\"\n",
              "       width=\"24px\">\n",
              "    <path d=\"M0 0h24v24H0V0z\" fill=\"none\"/>\n",
              "    <path d=\"M18.56 5.44l.94 2.06.94-2.06 2.06-.94-2.06-.94-.94-2.06-.94 2.06-2.06.94zm-11 1L8.5 8.5l.94-2.06 2.06-.94-2.06-.94L8.5 2.5l-.94 2.06-2.06.94zm10 10l.94 2.06.94-2.06 2.06-.94-2.06-.94-.94-2.06-.94 2.06-2.06.94z\"/><path d=\"M17.41 7.96l-1.37-1.37c-.4-.4-.92-.59-1.43-.59-.52 0-1.04.2-1.43.59L10.3 9.45l-7.72 7.72c-.78.78-.78 2.05 0 2.83L4 21.41c.39.39.9.59 1.41.59.51 0 1.02-.2 1.41-.59l7.78-7.78 2.81-2.81c.8-.78.8-2.07 0-2.86zM5.41 20L4 18.59l7.72-7.72 1.47 1.35L5.41 20z\"/>\n",
              "  </svg>\n",
              "      </button>\n",
              "      \n",
              "  <style>\n",
              "    .colab-df-container {\n",
              "      display:flex;\n",
              "      flex-wrap:wrap;\n",
              "      gap: 12px;\n",
              "    }\n",
              "\n",
              "    .colab-df-convert {\n",
              "      background-color: #E8F0FE;\n",
              "      border: none;\n",
              "      border-radius: 50%;\n",
              "      cursor: pointer;\n",
              "      display: none;\n",
              "      fill: #1967D2;\n",
              "      height: 32px;\n",
              "      padding: 0 0 0 0;\n",
              "      width: 32px;\n",
              "    }\n",
              "\n",
              "    .colab-df-convert:hover {\n",
              "      background-color: #E2EBFA;\n",
              "      box-shadow: 0px 1px 2px rgba(60, 64, 67, 0.3), 0px 1px 3px 1px rgba(60, 64, 67, 0.15);\n",
              "      fill: #174EA6;\n",
              "    }\n",
              "\n",
              "    [theme=dark] .colab-df-convert {\n",
              "      background-color: #3B4455;\n",
              "      fill: #D2E3FC;\n",
              "    }\n",
              "\n",
              "    [theme=dark] .colab-df-convert:hover {\n",
              "      background-color: #434B5C;\n",
              "      box-shadow: 0px 1px 3px 1px rgba(0, 0, 0, 0.15);\n",
              "      filter: drop-shadow(0px 1px 2px rgba(0, 0, 0, 0.3));\n",
              "      fill: #FFFFFF;\n",
              "    }\n",
              "  </style>\n",
              "\n",
              "      <script>\n",
              "        const buttonEl =\n",
              "          document.querySelector('#df-046b80a4-8e05-4f39-9e87-9b37933b962b button.colab-df-convert');\n",
              "        buttonEl.style.display =\n",
              "          google.colab.kernel.accessAllowed ? 'block' : 'none';\n",
              "\n",
              "        async function convertToInteractive(key) {\n",
              "          const element = document.querySelector('#df-046b80a4-8e05-4f39-9e87-9b37933b962b');\n",
              "          const dataTable =\n",
              "            await google.colab.kernel.invokeFunction('convertToInteractive',\n",
              "                                                     [key], {});\n",
              "          if (!dataTable) return;\n",
              "\n",
              "          const docLinkHtml = 'Like what you see? Visit the ' +\n",
              "            '<a target=\"_blank\" href=https://colab.research.google.com/notebooks/data_table.ipynb>data table notebook</a>'\n",
              "            + ' to learn more about interactive tables.';\n",
              "          element.innerHTML = '';\n",
              "          dataTable['output_type'] = 'display_data';\n",
              "          await google.colab.output.renderOutput(dataTable, element);\n",
              "          const docLink = document.createElement('div');\n",
              "          docLink.innerHTML = docLinkHtml;\n",
              "          element.appendChild(docLink);\n",
              "        }\n",
              "      </script>\n",
              "    </div>\n",
              "  </div>\n",
              "  "
            ]
          },
          "metadata": {},
          "execution_count": 17
        }
      ]
    },
    {
      "cell_type": "code",
      "source": [
        "#Due to tickers and dates mismatch there could be a lot of missing values in the 'Returns' column\n",
        "\n",
        "text_df.isna().sum()"
      ],
      "metadata": {
        "colab": {
          "base_uri": "https://localhost:8080/"
        },
        "id": "rSFTJXuQsMHj",
        "outputId": "53621d4f-8524-4b38-ce6d-61c9cc87dded"
      },
      "execution_count": 18,
      "outputs": [
        {
          "output_type": "execute_result",
          "data": {
            "text/plain": [
              "id                        0\n",
              "ticker                    0\n",
              "title                     0\n",
              "category                  0\n",
              "content                   8\n",
              "release_date              0\n",
              "provider                  0\n",
              "url                       0\n",
              "article_id                0\n",
              "Processed_Articles        8\n",
              "Processed_Titles          0\n",
              "Returns               37980\n",
              "dtype: int64"
            ]
          },
          "metadata": {},
          "execution_count": 18
        }
      ]
    },
    {
      "cell_type": "code",
      "source": [
        "#Even if the missing values are a lot we will drop all the corresponding rows because the dataset will maintain significant dimensions \n",
        "text_df=text_df.dropna()\n",
        "text_df.isna().sum()"
      ],
      "metadata": {
        "colab": {
          "base_uri": "https://localhost:8080/"
        },
        "id": "8c3wN_lisN6J",
        "outputId": "c285a31e-ff85-42a2-9341-dea33539d331"
      },
      "execution_count": 19,
      "outputs": [
        {
          "output_type": "execute_result",
          "data": {
            "text/plain": [
              "id                    0\n",
              "ticker                0\n",
              "title                 0\n",
              "category              0\n",
              "content               0\n",
              "release_date          0\n",
              "provider              0\n",
              "url                   0\n",
              "article_id            0\n",
              "Processed_Articles    0\n",
              "Processed_Titles      0\n",
              "Returns               0\n",
              "dtype: int64"
            ]
          },
          "metadata": {},
          "execution_count": 19
        }
      ]
    },
    {
      "cell_type": "markdown",
      "source": [
        "In this way we have a single headline(article) - return correspondance\n",
        "\n",
        "On the other side we can aggregate news daily and use a stock index to extract the overall market sentiment. In this case we go for the SP500."
      ],
      "metadata": {
        "id": "YyauhOfIshge"
      }
    },
    {
      "cell_type": "markdown",
      "source": [
        "##2.3 Daily aggregation"
      ],
      "metadata": {
        "id": "jqGd1JArsqvp"
      }
    },
    {
      "cell_type": "code",
      "source": [
        "#First, SP500 price time series\n",
        "\n",
        "#We will get the time series with one more day before because we are interested in returns\n",
        "sp = pd.DataFrame(yf.download('^GSPC', '2008-10-01','2020-02-14',progress=False)['Close'])\n",
        "sp['date']=sp.index\n",
        "sp.index=[i for i in range(0,len(sp),1)]\n",
        "sp.head(3)"
      ],
      "metadata": {
        "colab": {
          "base_uri": "https://localhost:8080/",
          "height": 143
        },
        "id": "N32CQYATsywv",
        "outputId": "236f1664-fb88-4a37-e395-d53c71778a39"
      },
      "execution_count": 20,
      "outputs": [
        {
          "output_type": "execute_result",
          "data": {
            "text/plain": [
              "         Close       date\n",
              "0  1161.060059 2008-10-01\n",
              "1  1114.280029 2008-10-02\n",
              "2  1099.229980 2008-10-03"
            ],
            "text/html": [
              "\n",
              "  <div id=\"df-98eceeb7-4d8c-4007-9f64-63d2634e0e7b\">\n",
              "    <div class=\"colab-df-container\">\n",
              "      <div>\n",
              "<style scoped>\n",
              "    .dataframe tbody tr th:only-of-type {\n",
              "        vertical-align: middle;\n",
              "    }\n",
              "\n",
              "    .dataframe tbody tr th {\n",
              "        vertical-align: top;\n",
              "    }\n",
              "\n",
              "    .dataframe thead th {\n",
              "        text-align: right;\n",
              "    }\n",
              "</style>\n",
              "<table border=\"1\" class=\"dataframe\">\n",
              "  <thead>\n",
              "    <tr style=\"text-align: right;\">\n",
              "      <th></th>\n",
              "      <th>Close</th>\n",
              "      <th>date</th>\n",
              "    </tr>\n",
              "  </thead>\n",
              "  <tbody>\n",
              "    <tr>\n",
              "      <th>0</th>\n",
              "      <td>1161.060059</td>\n",
              "      <td>2008-10-01</td>\n",
              "    </tr>\n",
              "    <tr>\n",
              "      <th>1</th>\n",
              "      <td>1114.280029</td>\n",
              "      <td>2008-10-02</td>\n",
              "    </tr>\n",
              "    <tr>\n",
              "      <th>2</th>\n",
              "      <td>1099.229980</td>\n",
              "      <td>2008-10-03</td>\n",
              "    </tr>\n",
              "  </tbody>\n",
              "</table>\n",
              "</div>\n",
              "      <button class=\"colab-df-convert\" onclick=\"convertToInteractive('df-98eceeb7-4d8c-4007-9f64-63d2634e0e7b')\"\n",
              "              title=\"Convert this dataframe to an interactive table.\"\n",
              "              style=\"display:none;\">\n",
              "        \n",
              "  <svg xmlns=\"http://www.w3.org/2000/svg\" height=\"24px\"viewBox=\"0 0 24 24\"\n",
              "       width=\"24px\">\n",
              "    <path d=\"M0 0h24v24H0V0z\" fill=\"none\"/>\n",
              "    <path d=\"M18.56 5.44l.94 2.06.94-2.06 2.06-.94-2.06-.94-.94-2.06-.94 2.06-2.06.94zm-11 1L8.5 8.5l.94-2.06 2.06-.94-2.06-.94L8.5 2.5l-.94 2.06-2.06.94zm10 10l.94 2.06.94-2.06 2.06-.94-2.06-.94-.94-2.06-.94 2.06-2.06.94z\"/><path d=\"M17.41 7.96l-1.37-1.37c-.4-.4-.92-.59-1.43-.59-.52 0-1.04.2-1.43.59L10.3 9.45l-7.72 7.72c-.78.78-.78 2.05 0 2.83L4 21.41c.39.39.9.59 1.41.59.51 0 1.02-.2 1.41-.59l7.78-7.78 2.81-2.81c.8-.78.8-2.07 0-2.86zM5.41 20L4 18.59l7.72-7.72 1.47 1.35L5.41 20z\"/>\n",
              "  </svg>\n",
              "      </button>\n",
              "      \n",
              "  <style>\n",
              "    .colab-df-container {\n",
              "      display:flex;\n",
              "      flex-wrap:wrap;\n",
              "      gap: 12px;\n",
              "    }\n",
              "\n",
              "    .colab-df-convert {\n",
              "      background-color: #E8F0FE;\n",
              "      border: none;\n",
              "      border-radius: 50%;\n",
              "      cursor: pointer;\n",
              "      display: none;\n",
              "      fill: #1967D2;\n",
              "      height: 32px;\n",
              "      padding: 0 0 0 0;\n",
              "      width: 32px;\n",
              "    }\n",
              "\n",
              "    .colab-df-convert:hover {\n",
              "      background-color: #E2EBFA;\n",
              "      box-shadow: 0px 1px 2px rgba(60, 64, 67, 0.3), 0px 1px 3px 1px rgba(60, 64, 67, 0.15);\n",
              "      fill: #174EA6;\n",
              "    }\n",
              "\n",
              "    [theme=dark] .colab-df-convert {\n",
              "      background-color: #3B4455;\n",
              "      fill: #D2E3FC;\n",
              "    }\n",
              "\n",
              "    [theme=dark] .colab-df-convert:hover {\n",
              "      background-color: #434B5C;\n",
              "      box-shadow: 0px 1px 3px 1px rgba(0, 0, 0, 0.15);\n",
              "      filter: drop-shadow(0px 1px 2px rgba(0, 0, 0, 0.3));\n",
              "      fill: #FFFFFF;\n",
              "    }\n",
              "  </style>\n",
              "\n",
              "      <script>\n",
              "        const buttonEl =\n",
              "          document.querySelector('#df-98eceeb7-4d8c-4007-9f64-63d2634e0e7b button.colab-df-convert');\n",
              "        buttonEl.style.display =\n",
              "          google.colab.kernel.accessAllowed ? 'block' : 'none';\n",
              "\n",
              "        async function convertToInteractive(key) {\n",
              "          const element = document.querySelector('#df-98eceeb7-4d8c-4007-9f64-63d2634e0e7b');\n",
              "          const dataTable =\n",
              "            await google.colab.kernel.invokeFunction('convertToInteractive',\n",
              "                                                     [key], {});\n",
              "          if (!dataTable) return;\n",
              "\n",
              "          const docLinkHtml = 'Like what you see? Visit the ' +\n",
              "            '<a target=\"_blank\" href=https://colab.research.google.com/notebooks/data_table.ipynb>data table notebook</a>'\n",
              "            + ' to learn more about interactive tables.';\n",
              "          element.innerHTML = '';\n",
              "          dataTable['output_type'] = 'display_data';\n",
              "          await google.colab.output.renderOutput(dataTable, element);\n",
              "          const docLink = document.createElement('div');\n",
              "          docLink.innerHTML = docLinkHtml;\n",
              "          element.appendChild(docLink);\n",
              "        }\n",
              "      </script>\n",
              "    </div>\n",
              "  </div>\n",
              "  "
            ]
          },
          "metadata": {},
          "execution_count": 20
        }
      ]
    },
    {
      "cell_type": "code",
      "source": [
        "#To Compute returns\n",
        "\n",
        "def ret(series):\n",
        "  \"\"\"Input: Prices time series \n",
        "     Output: Returns computed through the following formula  R_t=(P_t - P_t-1)/P_t-1\n",
        "\n",
        "     Args:\n",
        "     series (pd.Series or list): Prices time series\n",
        "\n",
        "     Returns:\n",
        "     list : list starting with np.nan (we assume not to have the price before t0)\n",
        "  \"\"\"\n",
        "  rets=[np.nan]\n",
        "  for j in range(len(series)-1):\n",
        "    r=(series[j+1]-series[j])/series[j]\n",
        "    rets.append(r)\n",
        "    j+=1\n",
        "  return rets"
      ],
      "metadata": {
        "id": "b3abpH6Ws8HE"
      },
      "execution_count": 21,
      "outputs": []
    },
    {
      "cell_type": "code",
      "source": [
        "#Calculating Returns\n",
        "\n",
        "sp['Returns']=ret(sp['Close'])\n",
        "\n",
        "sp.head(3)"
      ],
      "metadata": {
        "colab": {
          "base_uri": "https://localhost:8080/",
          "height": 143
        },
        "id": "F3mwNpK1s8tJ",
        "outputId": "b163fe32-d86d-465b-f32b-b9bb123f264b"
      },
      "execution_count": 22,
      "outputs": [
        {
          "output_type": "execute_result",
          "data": {
            "text/plain": [
              "         Close       date   Returns\n",
              "0  1161.060059 2008-10-01       NaN\n",
              "1  1114.280029 2008-10-02 -0.040291\n",
              "2  1099.229980 2008-10-03 -0.013507"
            ],
            "text/html": [
              "\n",
              "  <div id=\"df-e175f35c-a423-468c-91a0-3de570ea5536\">\n",
              "    <div class=\"colab-df-container\">\n",
              "      <div>\n",
              "<style scoped>\n",
              "    .dataframe tbody tr th:only-of-type {\n",
              "        vertical-align: middle;\n",
              "    }\n",
              "\n",
              "    .dataframe tbody tr th {\n",
              "        vertical-align: top;\n",
              "    }\n",
              "\n",
              "    .dataframe thead th {\n",
              "        text-align: right;\n",
              "    }\n",
              "</style>\n",
              "<table border=\"1\" class=\"dataframe\">\n",
              "  <thead>\n",
              "    <tr style=\"text-align: right;\">\n",
              "      <th></th>\n",
              "      <th>Close</th>\n",
              "      <th>date</th>\n",
              "      <th>Returns</th>\n",
              "    </tr>\n",
              "  </thead>\n",
              "  <tbody>\n",
              "    <tr>\n",
              "      <th>0</th>\n",
              "      <td>1161.060059</td>\n",
              "      <td>2008-10-01</td>\n",
              "      <td>NaN</td>\n",
              "    </tr>\n",
              "    <tr>\n",
              "      <th>1</th>\n",
              "      <td>1114.280029</td>\n",
              "      <td>2008-10-02</td>\n",
              "      <td>-0.040291</td>\n",
              "    </tr>\n",
              "    <tr>\n",
              "      <th>2</th>\n",
              "      <td>1099.229980</td>\n",
              "      <td>2008-10-03</td>\n",
              "      <td>-0.013507</td>\n",
              "    </tr>\n",
              "  </tbody>\n",
              "</table>\n",
              "</div>\n",
              "      <button class=\"colab-df-convert\" onclick=\"convertToInteractive('df-e175f35c-a423-468c-91a0-3de570ea5536')\"\n",
              "              title=\"Convert this dataframe to an interactive table.\"\n",
              "              style=\"display:none;\">\n",
              "        \n",
              "  <svg xmlns=\"http://www.w3.org/2000/svg\" height=\"24px\"viewBox=\"0 0 24 24\"\n",
              "       width=\"24px\">\n",
              "    <path d=\"M0 0h24v24H0V0z\" fill=\"none\"/>\n",
              "    <path d=\"M18.56 5.44l.94 2.06.94-2.06 2.06-.94-2.06-.94-.94-2.06-.94 2.06-2.06.94zm-11 1L8.5 8.5l.94-2.06 2.06-.94-2.06-.94L8.5 2.5l-.94 2.06-2.06.94zm10 10l.94 2.06.94-2.06 2.06-.94-2.06-.94-.94-2.06-.94 2.06-2.06.94z\"/><path d=\"M17.41 7.96l-1.37-1.37c-.4-.4-.92-.59-1.43-.59-.52 0-1.04.2-1.43.59L10.3 9.45l-7.72 7.72c-.78.78-.78 2.05 0 2.83L4 21.41c.39.39.9.59 1.41.59.51 0 1.02-.2 1.41-.59l7.78-7.78 2.81-2.81c.8-.78.8-2.07 0-2.86zM5.41 20L4 18.59l7.72-7.72 1.47 1.35L5.41 20z\"/>\n",
              "  </svg>\n",
              "      </button>\n",
              "      \n",
              "  <style>\n",
              "    .colab-df-container {\n",
              "      display:flex;\n",
              "      flex-wrap:wrap;\n",
              "      gap: 12px;\n",
              "    }\n",
              "\n",
              "    .colab-df-convert {\n",
              "      background-color: #E8F0FE;\n",
              "      border: none;\n",
              "      border-radius: 50%;\n",
              "      cursor: pointer;\n",
              "      display: none;\n",
              "      fill: #1967D2;\n",
              "      height: 32px;\n",
              "      padding: 0 0 0 0;\n",
              "      width: 32px;\n",
              "    }\n",
              "\n",
              "    .colab-df-convert:hover {\n",
              "      background-color: #E2EBFA;\n",
              "      box-shadow: 0px 1px 2px rgba(60, 64, 67, 0.3), 0px 1px 3px 1px rgba(60, 64, 67, 0.15);\n",
              "      fill: #174EA6;\n",
              "    }\n",
              "\n",
              "    [theme=dark] .colab-df-convert {\n",
              "      background-color: #3B4455;\n",
              "      fill: #D2E3FC;\n",
              "    }\n",
              "\n",
              "    [theme=dark] .colab-df-convert:hover {\n",
              "      background-color: #434B5C;\n",
              "      box-shadow: 0px 1px 3px 1px rgba(0, 0, 0, 0.15);\n",
              "      filter: drop-shadow(0px 1px 2px rgba(0, 0, 0, 0.3));\n",
              "      fill: #FFFFFF;\n",
              "    }\n",
              "  </style>\n",
              "\n",
              "      <script>\n",
              "        const buttonEl =\n",
              "          document.querySelector('#df-e175f35c-a423-468c-91a0-3de570ea5536 button.colab-df-convert');\n",
              "        buttonEl.style.display =\n",
              "          google.colab.kernel.accessAllowed ? 'block' : 'none';\n",
              "\n",
              "        async function convertToInteractive(key) {\n",
              "          const element = document.querySelector('#df-e175f35c-a423-468c-91a0-3de570ea5536');\n",
              "          const dataTable =\n",
              "            await google.colab.kernel.invokeFunction('convertToInteractive',\n",
              "                                                     [key], {});\n",
              "          if (!dataTable) return;\n",
              "\n",
              "          const docLinkHtml = 'Like what you see? Visit the ' +\n",
              "            '<a target=\"_blank\" href=https://colab.research.google.com/notebooks/data_table.ipynb>data table notebook</a>'\n",
              "            + ' to learn more about interactive tables.';\n",
              "          element.innerHTML = '';\n",
              "          dataTable['output_type'] = 'display_data';\n",
              "          await google.colab.output.renderOutput(dataTable, element);\n",
              "          const docLink = document.createElement('div');\n",
              "          docLink.innerHTML = docLinkHtml;\n",
              "          element.appendChild(docLink);\n",
              "        }\n",
              "      </script>\n",
              "    </div>\n",
              "  </div>\n",
              "  "
            ]
          },
          "metadata": {},
          "execution_count": 22
        }
      ]
    },
    {
      "cell_type": "code",
      "source": [
        "#To aggregate news daily combined with pd.DataFrame.groupby\n",
        "\n",
        "def string_paster(s):\n",
        "  \"\"\"Input: series of strings (sentences for instance)\n",
        "     Output: One single string merging all the input ones\n",
        "\n",
        "     Args:\n",
        "     series (pd.Series or list): series formed by strings\n",
        "\n",
        "     Returns:\n",
        "     str : a single string formed by the inputs paste\n",
        "  \"\"\"    \n",
        "  result=''\n",
        "  for e in s:\n",
        "        result=result+' '+e\n",
        "  return result"
      ],
      "metadata": {
        "id": "Wm_qvNdcs-6a"
      },
      "execution_count": 23,
      "outputs": []
    },
    {
      "cell_type": "code",
      "source": [
        "#Aggregating news daily\n",
        "\n",
        "hls_by_day=pd.DataFrame(text_df.groupby('release_date')['Processed_Titles'].apply(string_paster))\n",
        "hls_by_day['date']=hls_by_day.index \n",
        "hls_by_day.index=[i for i in range(0,len(hls_by_day),1)] "
      ],
      "metadata": {
        "id": "lxFi-2FOtBUC"
      },
      "execution_count": 24,
      "outputs": []
    },
    {
      "cell_type": "code",
      "source": [
        "#The same with articles\n",
        "\n",
        "art_by_day=pd.DataFrame(text_df.groupby('release_date')['Processed_Articles'].apply(string_paster))\n",
        "art_by_day['date']=art_by_day.index \n",
        "art_by_day.index=[i for i in range(0,len(art_by_day),1)] \n"
      ],
      "metadata": {
        "id": "uBKnbpVHtI7h"
      },
      "execution_count": 25,
      "outputs": []
    },
    {
      "cell_type": "code",
      "source": [
        "daily_df=art_by_day.merge(hls_by_day,how='inner',on='date').merge(sp,how='inner',on='date')"
      ],
      "metadata": {
        "id": "C6sWGgAjtPyd"
      },
      "execution_count": 26,
      "outputs": []
    },
    {
      "cell_type": "code",
      "source": [
        "daily_df.head(3)"
      ],
      "metadata": {
        "colab": {
          "base_uri": "https://localhost:8080/",
          "height": 143
        },
        "id": "q_A4zRrl0-zB",
        "outputId": "859d1846-f9c5-4a04-c0ea-6c65adeb3215"
      },
      "execution_count": 27,
      "outputs": [
        {
          "output_type": "execute_result",
          "data": {
            "text/plain": [
              "                                  Processed_Articles       date  \\\n",
              "0   nikkei pct hit lowest point year fear global ... 2008-10-02   \n",
              "1   money market squeez ecb shift fuel dollar sur... 2008-10-03   \n",
              "2   stock plung european bank action stir new fea... 2008-10-06   \n",
              "\n",
              "                                    Processed_Titles        Close   Returns  \n",
              "0                  nikkei pct economy fear auto drop  1114.280029 -0.040291  \n",
              "1   forex dollar poise big gain year global marke...  1099.229980 -0.013507  \n",
              "2   global markets stock worldwide oil fall crisi...  1056.890015 -0.038518  "
            ],
            "text/html": [
              "\n",
              "  <div id=\"df-37b8969a-2023-41c9-aeb8-e5f4fa4d0031\">\n",
              "    <div class=\"colab-df-container\">\n",
              "      <div>\n",
              "<style scoped>\n",
              "    .dataframe tbody tr th:only-of-type {\n",
              "        vertical-align: middle;\n",
              "    }\n",
              "\n",
              "    .dataframe tbody tr th {\n",
              "        vertical-align: top;\n",
              "    }\n",
              "\n",
              "    .dataframe thead th {\n",
              "        text-align: right;\n",
              "    }\n",
              "</style>\n",
              "<table border=\"1\" class=\"dataframe\">\n",
              "  <thead>\n",
              "    <tr style=\"text-align: right;\">\n",
              "      <th></th>\n",
              "      <th>Processed_Articles</th>\n",
              "      <th>date</th>\n",
              "      <th>Processed_Titles</th>\n",
              "      <th>Close</th>\n",
              "      <th>Returns</th>\n",
              "    </tr>\n",
              "  </thead>\n",
              "  <tbody>\n",
              "    <tr>\n",
              "      <th>0</th>\n",
              "      <td>nikkei pct hit lowest point year fear global ...</td>\n",
              "      <td>2008-10-02</td>\n",
              "      <td>nikkei pct economy fear auto drop</td>\n",
              "      <td>1114.280029</td>\n",
              "      <td>-0.040291</td>\n",
              "    </tr>\n",
              "    <tr>\n",
              "      <th>1</th>\n",
              "      <td>money market squeez ecb shift fuel dollar sur...</td>\n",
              "      <td>2008-10-03</td>\n",
              "      <td>forex dollar poise big gain year global marke...</td>\n",
              "      <td>1099.229980</td>\n",
              "      <td>-0.013507</td>\n",
              "    </tr>\n",
              "    <tr>\n",
              "      <th>2</th>\n",
              "      <td>stock plung european bank action stir new fea...</td>\n",
              "      <td>2008-10-06</td>\n",
              "      <td>global markets stock worldwide oil fall crisi...</td>\n",
              "      <td>1056.890015</td>\n",
              "      <td>-0.038518</td>\n",
              "    </tr>\n",
              "  </tbody>\n",
              "</table>\n",
              "</div>\n",
              "      <button class=\"colab-df-convert\" onclick=\"convertToInteractive('df-37b8969a-2023-41c9-aeb8-e5f4fa4d0031')\"\n",
              "              title=\"Convert this dataframe to an interactive table.\"\n",
              "              style=\"display:none;\">\n",
              "        \n",
              "  <svg xmlns=\"http://www.w3.org/2000/svg\" height=\"24px\"viewBox=\"0 0 24 24\"\n",
              "       width=\"24px\">\n",
              "    <path d=\"M0 0h24v24H0V0z\" fill=\"none\"/>\n",
              "    <path d=\"M18.56 5.44l.94 2.06.94-2.06 2.06-.94-2.06-.94-.94-2.06-.94 2.06-2.06.94zm-11 1L8.5 8.5l.94-2.06 2.06-.94-2.06-.94L8.5 2.5l-.94 2.06-2.06.94zm10 10l.94 2.06.94-2.06 2.06-.94-2.06-.94-.94-2.06-.94 2.06-2.06.94z\"/><path d=\"M17.41 7.96l-1.37-1.37c-.4-.4-.92-.59-1.43-.59-.52 0-1.04.2-1.43.59L10.3 9.45l-7.72 7.72c-.78.78-.78 2.05 0 2.83L4 21.41c.39.39.9.59 1.41.59.51 0 1.02-.2 1.41-.59l7.78-7.78 2.81-2.81c.8-.78.8-2.07 0-2.86zM5.41 20L4 18.59l7.72-7.72 1.47 1.35L5.41 20z\"/>\n",
              "  </svg>\n",
              "      </button>\n",
              "      \n",
              "  <style>\n",
              "    .colab-df-container {\n",
              "      display:flex;\n",
              "      flex-wrap:wrap;\n",
              "      gap: 12px;\n",
              "    }\n",
              "\n",
              "    .colab-df-convert {\n",
              "      background-color: #E8F0FE;\n",
              "      border: none;\n",
              "      border-radius: 50%;\n",
              "      cursor: pointer;\n",
              "      display: none;\n",
              "      fill: #1967D2;\n",
              "      height: 32px;\n",
              "      padding: 0 0 0 0;\n",
              "      width: 32px;\n",
              "    }\n",
              "\n",
              "    .colab-df-convert:hover {\n",
              "      background-color: #E2EBFA;\n",
              "      box-shadow: 0px 1px 2px rgba(60, 64, 67, 0.3), 0px 1px 3px 1px rgba(60, 64, 67, 0.15);\n",
              "      fill: #174EA6;\n",
              "    }\n",
              "\n",
              "    [theme=dark] .colab-df-convert {\n",
              "      background-color: #3B4455;\n",
              "      fill: #D2E3FC;\n",
              "    }\n",
              "\n",
              "    [theme=dark] .colab-df-convert:hover {\n",
              "      background-color: #434B5C;\n",
              "      box-shadow: 0px 1px 3px 1px rgba(0, 0, 0, 0.15);\n",
              "      filter: drop-shadow(0px 1px 2px rgba(0, 0, 0, 0.3));\n",
              "      fill: #FFFFFF;\n",
              "    }\n",
              "  </style>\n",
              "\n",
              "      <script>\n",
              "        const buttonEl =\n",
              "          document.querySelector('#df-37b8969a-2023-41c9-aeb8-e5f4fa4d0031 button.colab-df-convert');\n",
              "        buttonEl.style.display =\n",
              "          google.colab.kernel.accessAllowed ? 'block' : 'none';\n",
              "\n",
              "        async function convertToInteractive(key) {\n",
              "          const element = document.querySelector('#df-37b8969a-2023-41c9-aeb8-e5f4fa4d0031');\n",
              "          const dataTable =\n",
              "            await google.colab.kernel.invokeFunction('convertToInteractive',\n",
              "                                                     [key], {});\n",
              "          if (!dataTable) return;\n",
              "\n",
              "          const docLinkHtml = 'Like what you see? Visit the ' +\n",
              "            '<a target=\"_blank\" href=https://colab.research.google.com/notebooks/data_table.ipynb>data table notebook</a>'\n",
              "            + ' to learn more about interactive tables.';\n",
              "          element.innerHTML = '';\n",
              "          dataTable['output_type'] = 'display_data';\n",
              "          await google.colab.output.renderOutput(dataTable, element);\n",
              "          const docLink = document.createElement('div');\n",
              "          docLink.innerHTML = docLinkHtml;\n",
              "          element.appendChild(docLink);\n",
              "        }\n",
              "      </script>\n",
              "    </div>\n",
              "  </div>\n",
              "  "
            ]
          },
          "metadata": {},
          "execution_count": 27
        }
      ]
    },
    {
      "cell_type": "markdown",
      "source": [
        "We proceed the same as before but aggregating news only (removing titles/articles in the opinion category)\n",
        "\n",
        "Are opinions able to impact the market? This question is the rationale behind this slicing."
      ],
      "metadata": {
        "id": "ufl1xKNgtypn"
      }
    },
    {
      "cell_type": "code",
      "source": [
        "news_only=text_df[text_df['category']=='news']"
      ],
      "metadata": {
        "id": "-DiQPT2tt_P4"
      },
      "execution_count": 28,
      "outputs": []
    },
    {
      "cell_type": "code",
      "source": [
        "news_hl_by_day=pd.DataFrame(news_only.groupby('release_date')['Processed_Titles'].apply(string_paster))\n",
        "news_hl_by_day['date']=news_hl_by_day.index \n",
        "news_hl_by_day.index=[i for i in range(0,len(news_hl_by_day),1)] "
      ],
      "metadata": {
        "id": "DrD9oqJ_uC65"
      },
      "execution_count": 29,
      "outputs": []
    },
    {
      "cell_type": "code",
      "source": [
        "news_art_by_day=pd.DataFrame(news_only.groupby('release_date')['Processed_Articles'].apply(string_paster))\n",
        "news_art_by_day['date']=news_art_by_day.index \n",
        "news_art_by_day.index=[i for i in range(0,len(news_art_by_day),1)] "
      ],
      "metadata": {
        "id": "fZGAYQPUuJ13"
      },
      "execution_count": 30,
      "outputs": []
    },
    {
      "cell_type": "code",
      "source": [
        "daily_news_df=news_art_by_day.merge(news_hl_by_day,how='inner',on='date').merge(sp,how='inner',on='date')"
      ],
      "metadata": {
        "id": "4ojPPdhPuMQU"
      },
      "execution_count": 31,
      "outputs": []
    },
    {
      "cell_type": "code",
      "source": [
        "daily_news_df.head(3)"
      ],
      "metadata": {
        "colab": {
          "base_uri": "https://localhost:8080/",
          "height": 143
        },
        "id": "aDW3LFvN1Dfh",
        "outputId": "b467b5ea-066a-4b3e-cc5e-ae2939f2db9d"
      },
      "execution_count": 32,
      "outputs": [
        {
          "output_type": "execute_result",
          "data": {
            "text/plain": [
              "                                  Processed_Articles       date  \\\n",
              "0   nikkei pct hit lowest point year fear global ... 2008-10-02   \n",
              "1   money market squeez ecb shift fuel dollar sur... 2008-10-03   \n",
              "2   stock plung european bank action stir new fea... 2008-10-06   \n",
              "\n",
              "                                    Processed_Titles        Close   Returns  \n",
              "0                  nikkei pct economy fear auto drop  1114.280029 -0.040291  \n",
              "1   forex dollar poise big gain year global marke...  1099.229980 -0.013507  \n",
              "2   global markets stock worldwide oil fall crisi...  1056.890015 -0.038518  "
            ],
            "text/html": [
              "\n",
              "  <div id=\"df-2e33a3bb-a613-443b-8211-553738af95e6\">\n",
              "    <div class=\"colab-df-container\">\n",
              "      <div>\n",
              "<style scoped>\n",
              "    .dataframe tbody tr th:only-of-type {\n",
              "        vertical-align: middle;\n",
              "    }\n",
              "\n",
              "    .dataframe tbody tr th {\n",
              "        vertical-align: top;\n",
              "    }\n",
              "\n",
              "    .dataframe thead th {\n",
              "        text-align: right;\n",
              "    }\n",
              "</style>\n",
              "<table border=\"1\" class=\"dataframe\">\n",
              "  <thead>\n",
              "    <tr style=\"text-align: right;\">\n",
              "      <th></th>\n",
              "      <th>Processed_Articles</th>\n",
              "      <th>date</th>\n",
              "      <th>Processed_Titles</th>\n",
              "      <th>Close</th>\n",
              "      <th>Returns</th>\n",
              "    </tr>\n",
              "  </thead>\n",
              "  <tbody>\n",
              "    <tr>\n",
              "      <th>0</th>\n",
              "      <td>nikkei pct hit lowest point year fear global ...</td>\n",
              "      <td>2008-10-02</td>\n",
              "      <td>nikkei pct economy fear auto drop</td>\n",
              "      <td>1114.280029</td>\n",
              "      <td>-0.040291</td>\n",
              "    </tr>\n",
              "    <tr>\n",
              "      <th>1</th>\n",
              "      <td>money market squeez ecb shift fuel dollar sur...</td>\n",
              "      <td>2008-10-03</td>\n",
              "      <td>forex dollar poise big gain year global marke...</td>\n",
              "      <td>1099.229980</td>\n",
              "      <td>-0.013507</td>\n",
              "    </tr>\n",
              "    <tr>\n",
              "      <th>2</th>\n",
              "      <td>stock plung european bank action stir new fea...</td>\n",
              "      <td>2008-10-06</td>\n",
              "      <td>global markets stock worldwide oil fall crisi...</td>\n",
              "      <td>1056.890015</td>\n",
              "      <td>-0.038518</td>\n",
              "    </tr>\n",
              "  </tbody>\n",
              "</table>\n",
              "</div>\n",
              "      <button class=\"colab-df-convert\" onclick=\"convertToInteractive('df-2e33a3bb-a613-443b-8211-553738af95e6')\"\n",
              "              title=\"Convert this dataframe to an interactive table.\"\n",
              "              style=\"display:none;\">\n",
              "        \n",
              "  <svg xmlns=\"http://www.w3.org/2000/svg\" height=\"24px\"viewBox=\"0 0 24 24\"\n",
              "       width=\"24px\">\n",
              "    <path d=\"M0 0h24v24H0V0z\" fill=\"none\"/>\n",
              "    <path d=\"M18.56 5.44l.94 2.06.94-2.06 2.06-.94-2.06-.94-.94-2.06-.94 2.06-2.06.94zm-11 1L8.5 8.5l.94-2.06 2.06-.94-2.06-.94L8.5 2.5l-.94 2.06-2.06.94zm10 10l.94 2.06.94-2.06 2.06-.94-2.06-.94-.94-2.06-.94 2.06-2.06.94z\"/><path d=\"M17.41 7.96l-1.37-1.37c-.4-.4-.92-.59-1.43-.59-.52 0-1.04.2-1.43.59L10.3 9.45l-7.72 7.72c-.78.78-.78 2.05 0 2.83L4 21.41c.39.39.9.59 1.41.59.51 0 1.02-.2 1.41-.59l7.78-7.78 2.81-2.81c.8-.78.8-2.07 0-2.86zM5.41 20L4 18.59l7.72-7.72 1.47 1.35L5.41 20z\"/>\n",
              "  </svg>\n",
              "      </button>\n",
              "      \n",
              "  <style>\n",
              "    .colab-df-container {\n",
              "      display:flex;\n",
              "      flex-wrap:wrap;\n",
              "      gap: 12px;\n",
              "    }\n",
              "\n",
              "    .colab-df-convert {\n",
              "      background-color: #E8F0FE;\n",
              "      border: none;\n",
              "      border-radius: 50%;\n",
              "      cursor: pointer;\n",
              "      display: none;\n",
              "      fill: #1967D2;\n",
              "      height: 32px;\n",
              "      padding: 0 0 0 0;\n",
              "      width: 32px;\n",
              "    }\n",
              "\n",
              "    .colab-df-convert:hover {\n",
              "      background-color: #E2EBFA;\n",
              "      box-shadow: 0px 1px 2px rgba(60, 64, 67, 0.3), 0px 1px 3px 1px rgba(60, 64, 67, 0.15);\n",
              "      fill: #174EA6;\n",
              "    }\n",
              "\n",
              "    [theme=dark] .colab-df-convert {\n",
              "      background-color: #3B4455;\n",
              "      fill: #D2E3FC;\n",
              "    }\n",
              "\n",
              "    [theme=dark] .colab-df-convert:hover {\n",
              "      background-color: #434B5C;\n",
              "      box-shadow: 0px 1px 3px 1px rgba(0, 0, 0, 0.15);\n",
              "      filter: drop-shadow(0px 1px 2px rgba(0, 0, 0, 0.3));\n",
              "      fill: #FFFFFF;\n",
              "    }\n",
              "  </style>\n",
              "\n",
              "      <script>\n",
              "        const buttonEl =\n",
              "          document.querySelector('#df-2e33a3bb-a613-443b-8211-553738af95e6 button.colab-df-convert');\n",
              "        buttonEl.style.display =\n",
              "          google.colab.kernel.accessAllowed ? 'block' : 'none';\n",
              "\n",
              "        async function convertToInteractive(key) {\n",
              "          const element = document.querySelector('#df-2e33a3bb-a613-443b-8211-553738af95e6');\n",
              "          const dataTable =\n",
              "            await google.colab.kernel.invokeFunction('convertToInteractive',\n",
              "                                                     [key], {});\n",
              "          if (!dataTable) return;\n",
              "\n",
              "          const docLinkHtml = 'Like what you see? Visit the ' +\n",
              "            '<a target=\"_blank\" href=https://colab.research.google.com/notebooks/data_table.ipynb>data table notebook</a>'\n",
              "            + ' to learn more about interactive tables.';\n",
              "          element.innerHTML = '';\n",
              "          dataTable['output_type'] = 'display_data';\n",
              "          await google.colab.output.renderOutput(dataTable, element);\n",
              "          const docLink = document.createElement('div');\n",
              "          docLink.innerHTML = docLinkHtml;\n",
              "          element.appendChild(docLink);\n",
              "        }\n",
              "      </script>\n",
              "    </div>\n",
              "  </div>\n",
              "  "
            ]
          },
          "metadata": {},
          "execution_count": 32
        }
      ]
    },
    {
      "cell_type": "markdown",
      "source": [
        "#4. Exporting"
      ],
      "metadata": {
        "id": "3b7fUbNsu8vs"
      }
    },
    {
      "cell_type": "markdown",
      "source": [
        "Exporting everything for further use"
      ],
      "metadata": {
        "id": "A-m0IybDu_KE"
      }
    },
    {
      "cell_type": "code",
      "source": [
        "text_df.to_csv('/content/drive/MyDrive/NLP_Financial_Sentiment_Analysis_Final/text_df.csv')\n",
        "daily_df.to_csv('/content/drive/MyDrive/NLP_Financial_Sentiment_Analysis_Final/daily.csv')\n",
        "daily_news_df.to_csv('/content/drive/MyDrive/NLP_Financial_Sentiment_Analysis_Final/daily_news.csv')"
      ],
      "metadata": {
        "id": "eKpBCJwdvDdN"
      },
      "execution_count": 33,
      "outputs": []
    },
    {
      "cell_type": "markdown",
      "source": [
        "#5. Conclusion"
      ],
      "metadata": {
        "id": "mnygp4fyvlJv"
      }
    },
    {
      "cell_type": "markdown",
      "source": [
        "We will end up with a series of texts to explore\n",
        "\n",
        "In fact we have 2 (single,daily) * 2 (headlines,articles) * 2 (news+opinions, news only) = 8 possible textual inputs"
      ],
      "metadata": {
        "id": "5VamW1fTvmaf"
      }
    }
  ]
}
